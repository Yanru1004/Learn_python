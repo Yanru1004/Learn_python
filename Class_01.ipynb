{
 "cells": [
  {
   "cell_type": "code",
   "execution_count": 33,
   "metadata": {},
   "outputs": [],
   "source": [
    "#定義類別\n",
    "\n",
    "#定義hero類別 \n",
    "#屬性 name, lv, item.\n",
    "#方法 get_item, lavel_up\n",
    "\n",
    "class hero:\n",
    "    def __init__(self, name):\n",
    "        self.name = name\n",
    "        self.lv = 1\n",
    "        self.item = []\n",
    "\n",
    "    def get_item(self,item):\n",
    "        self.item.append(item)\n",
    "\n",
    "    def level_up(self):\n",
    "        print(f'{self.name} is LV UP!')\n",
    "        print(f'LV.{self.lv} -> LV.{self.lv +1}\\n')\n",
    "        self.lv += 1\n",
    "    \n",
    "    def show_stat(self):\n",
    "        print(f'Name:{self.name}')\n",
    "        print(f'Lv: {self.lv}')\n",
    "        print(f'Item:\\n {self.item}\\n')\n",
    "        "
   ]
  },
  {
   "cell_type": "code",
   "execution_count": 34,
   "metadata": {},
   "outputs": [
    {
     "name": "stdout",
     "output_type": "stream",
     "text": [
      "John is LV UP!\n",
      "LV.1 -> LV.2\n",
      "\n",
      "Ann is LV UP!\n",
      "LV.1 -> LV.2\n",
      "\n",
      "Ann is LV UP!\n",
      "LV.2 -> LV.3\n",
      "\n",
      "Name:Ann\n",
      "Lv: 3\n",
      "Item:\n",
      " ['apple']\n",
      "\n",
      "Name:John\n",
      "Lv: 2\n",
      "Item:\n",
      " []\n",
      "\n"
     ]
    }
   ],
   "source": [
    "#建立物件\n",
    "John = hero(\"John\")\n",
    "Ann = hero(\"Ann\")\n",
    "\n",
    "#操作方法\n",
    "Ann.get_item('apple')\n",
    "John.level_up()\n",
    "Ann.level_up()\n",
    "Ann.level_up()\n",
    "Ann.show_stat()\n",
    "John.show_stat()"
   ]
  },
  {
   "cell_type": "code",
   "execution_count": null,
   "metadata": {},
   "outputs": [],
   "source": []
  }
 ],
 "metadata": {
  "kernelspec": {
   "display_name": "Python 3",
   "language": "python",
   "name": "python3"
  },
  "language_info": {
   "codemirror_mode": {
    "name": "ipython",
    "version": 3
   },
   "file_extension": ".py",
   "mimetype": "text/x-python",
   "name": "python",
   "nbconvert_exporter": "python",
   "pygments_lexer": "ipython3",
   "version": "3.10.2"
  }
 },
 "nbformat": 4,
 "nbformat_minor": 2
}
