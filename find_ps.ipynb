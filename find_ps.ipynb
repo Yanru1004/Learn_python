{
 "cells": [
  {
   "cell_type": "code",
   "execution_count": 3,
   "id": "7ff04e0b",
   "metadata": {},
   "outputs": [
    {
     "name": "stdout",
     "output_type": "stream",
     "text": [
      "11\t121\t121\t11\n",
      "12\t144\t441\t21\n",
      "13\t169\t961\t31\n",
      "21\t441\t144\t12\n",
      "22\t484\t484\t22\n",
      "26\t676\t676\t26\n",
      "31\t961\t169\t13\n",
      "33\t1089\t9801\t99\n",
      "99\t9801\t1089\t33\n",
      "101\t10201\t10201\t101\n",
      "102\t10404\t40401\t201\n",
      "103\t10609\t90601\t301\n",
      "111\t12321\t12321\t111\n",
      "112\t12544\t44521\t211\n",
      "113\t12769\t96721\t311\n",
      "121\t14641\t14641\t121\n",
      "122\t14884\t48841\t221\n",
      "201\t40401\t10404\t102\n",
      "202\t40804\t40804\t202\n",
      "211\t44521\t12544\t112\n",
      "212\t44944\t44944\t212\n",
      "221\t48841\t14884\t122\n",
      "264\t69696\t69696\t264\n",
      "301\t90601\t10609\t103\n",
      "307\t94249\t94249\t307\n",
      "311\t96721\t12769\t113\n",
      "836\t698896\t698896\t836\n"
     ]
    }
   ],
   "source": [
    "#雙層迴圈，窮舉11^2 ~ 1000^2 之間的完全平方數\n",
    "for i in range(11,1000):\n",
    "    for j in range(11,1000):\n",
    "        #如果 i^2 的字串 等於 j^2 字串的反轉就印出來\n",
    "        if str(i**2) == str(j**2)[::-1]:\n",
    "            # 分別印出 i i^2 j^2 j 以tab分開 (\\t)\n",
    "            print(f'{i}\\t{i**2}\\t{j**2}\\t{j}')\n",
    "\n",
    "        "
   ]
  }
 ],
 "metadata": {
  "kernelspec": {
   "display_name": "Python 3",
   "language": "python",
   "name": "python3"
  },
  "language_info": {
   "codemirror_mode": {
    "name": "ipython",
    "version": 3
   },
   "file_extension": ".py",
   "mimetype": "text/x-python",
   "name": "python",
   "nbconvert_exporter": "python",
   "pygments_lexer": "ipython3",
   "version": "3.10.2"
  }
 },
 "nbformat": 4,
 "nbformat_minor": 5
}
