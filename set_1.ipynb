{
 "cells": [
  {
   "cell_type": "code",
   "execution_count": 4,
   "metadata": {},
   "outputs": [
    {
     "name": "stdout",
     "output_type": "stream",
     "text": [
      "set()\n"
     ]
    }
   ],
   "source": [
    "#建立空集合\n",
    "empty_set = set()\n",
    "print(empty_set)"
   ]
  },
  {
   "cell_type": "code",
   "execution_count": 7,
   "metadata": {},
   "outputs": [
    {
     "name": "stdout",
     "output_type": "stream",
     "text": [
      "新增前:{1, 2, 3, 4, 'a', 'b'}\n",
      "新增後:{1, 2, 3, 4, 'a', 'b', 'd'}\n"
     ]
    }
   ],
   "source": [
    "set_a = {1,2,3,4,'a','b'}\n",
    "print(f'新增前:{set_a}')\n",
    "\n",
    "#新增元素\n",
    "set_a.add('d')\n",
    "print(f'新增後:{set_a}')\n"
   ]
  },
  {
   "cell_type": "code",
   "execution_count": 8,
   "metadata": {},
   "outputs": [
    {
     "name": "stdout",
     "output_type": "stream",
     "text": [
      "移除前: {1, 2, 3, 4, 'b', 'd'}\n",
      "移除後: {1, 3, 4, 'b', 'd'}\n",
      "移除前: {1, 2, 3, 4, 'b', 'd'}\n",
      "移除的元素: 1\n",
      "移除後: {2, 3, 4, 'b', 'd'}\n"
     ]
    }
   ],
   "source": [
    "# 使用 remove 方法\n",
    "set_a = {1, 2, 3, 4, 'b', 'd'}\n",
    "print(f'移除前: {set_a}')\n",
    "set_a.remove(2)\n",
    "print(f'移除後: {set_a}')\n",
    "\n",
    "# 使用 pop 方法\n",
    "set_a = {1, 2, 3, 4, 'b', 'd'}\n",
    "print(f'移除前: {set_a}')\n",
    "removed_element = set_a.pop()\n",
    "print(f'移除的元素: {removed_element}')\n",
    "print(f'移除後: {set_a}')"
   ]
  },
  {
   "cell_type": "code",
   "execution_count": null,
   "metadata": {},
   "outputs": [],
   "source": [
    "# 定義另一個集合\n",
    "set_b = {3, 4, 5, 'b', 'e'}\n",
    "\n",
    "# 聯集\n",
    "union_set = set_a.union(set_b)\n",
    "print(f'聯集: {union_set}')\n",
    "\n",
    "# 交集\n",
    "intersection_set = set_a.intersection(set_b)\n",
    "print(f'交集: {intersection_set}')\n",
    "\n",
    "# 差集\n",
    "difference_set = set_a.difference(set_b)\n",
    "print(f'差集: {difference_set}')"
   ]
  },
  {
   "cell_type": "code",
   "execution_count": null,
   "metadata": {},
   "outputs": [],
   "source": []
  }
 ],
 "metadata": {
  "kernelspec": {
   "display_name": "Python 3",
   "language": "python",
   "name": "python3"
  },
  "language_info": {
   "codemirror_mode": {
    "name": "ipython",
    "version": 3
   },
   "file_extension": ".py",
   "mimetype": "text/x-python",
   "name": "python",
   "nbconvert_exporter": "python",
   "pygments_lexer": "ipython3",
   "version": "3.10.2"
  }
 },
 "nbformat": 4,
 "nbformat_minor": 2
}
